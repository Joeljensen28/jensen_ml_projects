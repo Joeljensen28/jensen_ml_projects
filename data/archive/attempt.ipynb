{
 "cells": [
  {
   "cell_type": "code",
   "execution_count": 4,
   "metadata": {},
   "outputs": [],
   "source": [
    "import pandas as pd\n",
    "import numpy as np\n",
    "import idx2numpy"
   ]
  },
  {
   "cell_type": "code",
   "execution_count": 6,
   "metadata": {},
   "outputs": [],
   "source": [
    "train_images = idx2numpy.convert_from_file('train-images-idx3-ubyte/train-images-idx3-ubyte')\n",
    "train_labels = idx2numpy.convert_from_file('train-labels-idx1-ubyte/train-labels-idx1-ubyte')\n",
    "t10k_labels = idx2numpy.convert_from_file('t10k-labels-idx1-ubyte/t10k-labels-idx1-ubyte')\n",
    "t10k_images = idx2numpy.convert_from_file('t10k-images-idx3-ubyte/t10k-images-idx3-ubyte')\n"
   ]
  }
 ],
 "metadata": {
  "kernelspec": {
   "display_name": "Python 3",
   "language": "python",
   "name": "python3"
  },
  "language_info": {
   "codemirror_mode": {
    "name": "ipython",
    "version": 3
   },
   "file_extension": ".py",
   "mimetype": "text/x-python",
   "name": "python",
   "nbconvert_exporter": "python",
   "pygments_lexer": "ipython3",
   "version": "3.11.5"
  }
 },
 "nbformat": 4,
 "nbformat_minor": 2
}
